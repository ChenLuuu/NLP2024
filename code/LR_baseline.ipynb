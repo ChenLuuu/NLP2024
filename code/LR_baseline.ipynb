{
 "cells": [
  {
   "cell_type": "markdown",
   "id": "72b538aa-b8bf-49ab-bff1-18d7748ac0d6",
   "metadata": {},
   "source": [
    "# Logistic Regression\n",
    "\n",
    "使用句子里所有词的平均embedding作为模型的特征，然后进行训练Linear Regressor"
   ]
  },
  {
   "cell_type": "code",
   "execution_count": 1,
   "id": "bc0c5767-6c66-45c5-a9d0-76d0ee755041",
   "metadata": {},
   "outputs": [
    {
     "name": "stderr",
     "output_type": "stream",
     "text": [
      "2024-06-24 15:23:46.169570: I tensorflow/core/util/util.cc:169] oneDNN custom operations are on. You may see slightly different numerical results due to floating-point round-off errors from different computation orders. To turn them off, set the environment variable `TF_ENABLE_ONEDNN_OPTS=0`.\n"
     ]
    }
   ],
   "source": [
    "import pandas as pd\n",
    "import os\n",
    "import time\n",
    "import gc\n",
    "import numpy as np\n",
    "import random\n",
    "from tqdm.notebook import tqdm\n",
    "from keras.preprocessing import text, sequence\n",
    "from tensorflow.keras.preprocessing.sequence import pad_sequences\n",
    "import torch\n",
    "from torch import nn\n",
    "from torch.utils import data\n",
    "from torch.nn import functional as F\n",
    "from sklearn.model_selection import train_test_split\n",
    "from matplotlib import pyplot as plt"
   ]
  },
  {
   "cell_type": "code",
   "execution_count": 2,
   "id": "40fe33df-e5d9-4231-9267-d43b337aabfa",
   "metadata": {},
   "outputs": [],
   "source": [
    "# disable progress bars when submitting\n",
    "def is_interactive():\n",
    "   return 'SHLVL' not in os.environ\n",
    "\n",
    "if not is_interactive():\n",
    "    def nop(it, *a, **k):\n",
    "        return it\n",
    "\n",
    "    tqdm = nop"
   ]
  },
  {
   "cell_type": "code",
   "execution_count": 3,
   "id": "97da9424-fc85-4d84-8ddb-89456c3b0b20",
   "metadata": {},
   "outputs": [],
   "source": [
    "def seed_everything(seed=1234):\n",
    "    random.seed(seed)\n",
    "    os.environ['PYTHONHASHSEED'] = str(seed)\n",
    "    np.random.seed(seed)\n",
    "    torch.manual_seed(seed)\n",
    "    torch.cuda.manual_seed(seed)\n",
    "    torch.backends.cudnn.deterministic = True\n",
    "seed_everything()"
   ]
  },
  {
   "cell_type": "code",
   "execution_count": null,
   "id": "1134aea0-dfdb-4dd6-9083-64b2637b31c4",
   "metadata": {},
   "outputs": [],
   "source": [
    "MAX_LEN = 220\n",
    "\n",
    "def preprocess(data):\n",
    "    '''\n",
    "    Credit goes to https://www.kaggle.com/gpreda/jigsaw-fast-compact-solution\n",
    "    '''\n",
    "    punct = \"/-'?!.,#$%\\'()*+-/:;<=>@[\\\\]^_`{|}~`\" + '\"\"“”’' + '∞θ÷α•à−β∅³π‘₹´°£€\\×™√²—–&'\n",
    "    def clean_special_chars(text, punct):\n",
    "        for p in punct:\n",
    "            text = text.replace(p, ' ')\n",
    "        return text\n",
    "\n",
    "    data = data.astype(str).apply(lambda x: clean_special_chars(x, punct))\n",
    "    return data\n",
    "\n",
    "max_features = None\n",
    "\n",
    "train = pd.read_csv('../dataset/train.csv')\n",
    "# test = pd.read_csv('../input/jigsaw-unintended-bias-in-toxicity-classification/test.csv')\n",
    "\n",
    "x_train = preprocess(train['comment_text'])\n",
    "y_train = np.where(train['target'] >= 0.5, 1, 0)\n",
    "y_aux_train = train[['target', 'severe_toxicity', 'obscene', 'identity_attack', 'insult', 'threat']]"
   ]
  },
  {
   "cell_type": "code",
   "execution_count": null,
   "id": "3afe10c3-ed50-4721-a83e-d4662a4a76ce",
   "metadata": {},
   "outputs": [],
   "source": [
    "# 均衡化数据集\n",
    "# 确定数量较少的类别\n",
    "count_class_0 = np.sum(y_train == 0)\n",
    "count_class_1 = np.sum(y_train == 1)\n",
    "\n",
    "# 从数量较多的类别中随机抽样\n",
    "index_class_0 = np.where(y_train == 0)[0]\n",
    "index_class_1 = np.where(y_train == 1)[0]\n",
    "\n",
    "# 从数量较多的类别中随机选择与数量较少的类别相同数量的样本\n",
    "seed_everything()\n",
    "selected_index_class_0 = np.random.choice(index_class_0, count_class_1, replace=False)\n",
    "\n",
    "# 构建平衡的数据集\n",
    "x_train = np.concatenate([x_train[selected_index_class_0], x_train[index_class_1]])\n",
    "y_train = np.concatenate([y_train[selected_index_class_0], y_train[index_class_1]])\n",
    "y_aux_train = np.concatenate([y_aux_train.iloc[selected_index_class_0], y_aux_train.iloc[index_class_1]])\n"
   ]
  },
  {
   "cell_type": "code",
   "execution_count": null,
   "id": "e55c8b2b-ad0c-449d-bb49-a81f22e88698",
   "metadata": {},
   "outputs": [
    {
     "data": {
      "text/plain": [
       "122578"
      ]
     },
     "execution_count": 6,
     "metadata": {},
     "output_type": "execute_result"
    }
   ],
   "source": [
    "# 划分训练集和测试集，按照9:1的比例\n",
    "x_train, x_test, y_train, y_test, y_aux_train, y_aux_test = train_test_split(\n",
    "    x_train, y_train, y_aux_train, test_size=0.1, random_state=1624)\n",
    "\n",
    "tokenizer = text.Tokenizer()\n",
    "tokenizer.fit_on_texts(list(x_train) + list(x_test))\n",
    "\n",
    "x_train = tokenizer.texts_to_sequences(x_train)\n",
    "x_test = tokenizer.texts_to_sequences(x_test)\n",
    "x_train = pad_sequences(x_train, maxlen=MAX_LEN)\n",
    "x_test = pad_sequences(x_test, maxlen=MAX_LEN)\n",
    "\n",
    "max_features = max_features or len(tokenizer.word_index) + 1\n",
    "max_features"
   ]
  },
  {
   "cell_type": "code",
   "execution_count": null,
   "id": "5d7cc415-af3d-4581-b9ba-22ae65b4d74f",
   "metadata": {},
   "outputs": [],
   "source": [
    "x_train_torch = torch.tensor(x_train, dtype=torch.long).cuda()\n",
    "x_test_torch = torch.tensor(x_test, dtype=torch.long).cuda()\n",
    "y_train_torch = torch.tensor(np.hstack([y_train[:, np.newaxis], y_aux_train]), dtype=torch.float32).cuda()\n",
    "y_train_baseline = torch.tensor(y_train, dtype=torch.float32).cuda()"
   ]
  },
  {
   "cell_type": "code",
   "execution_count": null,
   "id": "ee268695-d21d-4754-9da6-48c10741e258",
   "metadata": {},
   "outputs": [],
   "source": [
    "CRAWL_EMBEDDING_PATH = '../WordEmbedding/crawl-300d-2M.vec'\n",
    "GLOVE_EMBEDDING_PATH = '../WordEmbedding/glove.840B.300d.txt'\n",
    "\n",
    "def get_coefs(word, *arr):\n",
    "    return word, np.asarray(arr, dtype='float32')\n",
    "\n",
    "def load_embeddings(path):\n",
    "    with open(path) as f:\n",
    "        return dict(get_coefs(*line.strip().split(' ')) for line in tqdm(f))\n",
    "\n",
    "def build_matrix(word_index, path):\n",
    "    embedding_index = load_embeddings(path)\n",
    "    embedding_matrix = np.zeros((len(word_index) + 1, 300))\n",
    "    unknown_words = []\n",
    "    \n",
    "    for word, i in word_index.items():\n",
    "        try:\n",
    "            embedding_matrix[i] = embedding_index[word]\n",
    "        except KeyError:\n",
    "            unknown_words.append(word)\n",
    "    return embedding_matrix, unknown_words"
   ]
  },
  {
   "cell_type": "code",
   "execution_count": null,
   "id": "fa123b27-a0b8-4c56-8f95-d8a0f2b6cc73",
   "metadata": {},
   "outputs": [
    {
     "name": "stdout",
     "output_type": "stream",
     "text": [
      "n unknown words (crawl):  38008\n",
      "n unknown words (glove):  36611\n"
     ]
    }
   ],
   "source": [
    "crawl_matrix, unknown_words_crawl = build_matrix(tokenizer.word_index, CRAWL_EMBEDDING_PATH)\n",
    "print('n unknown words (crawl): ', len(unknown_words_crawl))\n",
    "\n",
    "glove_matrix, unknown_words_glove = build_matrix(tokenizer.word_index, GLOVE_EMBEDDING_PATH)\n",
    "print('n unknown words (glove): ', len(unknown_words_glove))"
   ]
  },
  {
   "cell_type": "code",
   "execution_count": null,
   "id": "fc350691-5a5c-481a-8af4-364bf3e54748",
   "metadata": {},
   "outputs": [
    {
     "data": {
      "text/plain": [
       "0"
      ]
     },
     "execution_count": 10,
     "metadata": {},
     "output_type": "execute_result"
    }
   ],
   "source": [
    "embedding_matrix = np.concatenate([crawl_matrix, glove_matrix], axis=-1)\n",
    "embedding_matrix.shape\n",
    "\n",
    "del crawl_matrix\n",
    "del glove_matrix\n",
    "gc.collect()"
   ]
  },
  {
   "cell_type": "code",
   "execution_count": null,
   "id": "114e5969-7442-4737-a46b-a0ede9bc4b29",
   "metadata": {},
   "outputs": [],
   "source": [
    "train_dataset = data.TensorDataset(x_train_torch, y_train_baseline)\n",
    "test_dataset = data.TensorDataset(x_test_torch)"
   ]
  },
  {
   "cell_type": "markdown",
   "id": "3666380e-f63b-4ceb-82f6-ec20f2557332",
   "metadata": {},
   "source": [
    "基本上所有任务都以这里的train_dataset和test_dataset作为输入！！！！！"
   ]
  },
  {
   "cell_type": "markdown",
   "id": "5f16d3d6-47d4-4635-a8c8-2a3682e1fb05",
   "metadata": {},
   "source": [
    "2. 模型训练——对于每个模型，都应分成multitask和非multitask两种情况进行训练。\n",
    "\n",
    "大部分现成代码并没有绘制出loss曲线，请在训练时注意画图，画图部分可参考我已经训练完的模型。【如果训练模型的时间很长，请把训练中的loss变化写入一个csv文件，方便后面分析】——至少也要每个epoch打印出平均的loss\n",
    "\n",
    "在这个部分，出于取巧的思路，大家可以选择原先就使用了multi-task的方法。然后把他输入所有y（y_label+y_aux_label）的地方，换成y_label【可能还需要调整部分代码】，就可以实现有没有multitask的对比\n",
    "\n",
    "训练完模型后，请保存为pth文件（方便后面进行ensemble learning的探究）。\n"
   ]
  },
  {
   "cell_type": "code",
   "execution_count": null,
   "id": "336cedd9-e4ac-49bf-87e0-2ecea9e6a572",
   "metadata": {},
   "outputs": [],
   "source": [
    "#在初始化模型的时候，一定要加入embedding_matrix！！！（train和test数据集需要在输入模型后进一步转化成embedding）\n",
    "class SpatialDropout(nn.Dropout2d):\n",
    "    def forward(self, x):\n",
    "        x = x.unsqueeze(2)    # (N, T, 1, K)\n",
    "        x = x.permute(0, 3, 2, 1)  # (N, K, 1, T)\n",
    "        x = super(SpatialDropout, self).forward(x)  # (N, K, 1, T), some features are masked\n",
    "        x = x.permute(0, 3, 2, 1)  # (N, T, 1, K)\n",
    "        x = x.squeeze(2)  # (N, T, K)\n",
    "        return x\n",
    "    \n",
    "class NeuralNet(nn.Module):\n",
    "    def __init__(self, embedding_matrix):\n",
    "        super(NeuralNet, self).__init__()\n",
    "        embed_size = embedding_matrix.shape[1]\n",
    "        \n",
    "        self.embedding = nn.Embedding(max_features, embed_size)\n",
    "        self.embedding.weight = nn.Parameter(torch.tensor(embedding_matrix, dtype=torch.float32))\n",
    "        self.embedding.weight.requires_grad = False\n",
    "        # self.embedding_dropout = SpatialDropout(0.3)\n",
    "        \n",
    "        self.linear = nn.Linear(embed_size, 1)  # 线性层\n",
    "        self.sigmoid = nn.Sigmoid()  # sigmoid激活函数\n",
    "        \n",
    "    def forward(self, x):\n",
    "        h_embedding = self.embedding(x)\n",
    "        # h_embedding = self.embedding_dropout(h_embedding)\n",
    "        h_embedding = torch.mean(h_embedding, dim=1)\n",
    "        \n",
    "        out = self.linear(h_embedding)\n",
    "        out = self.sigmoid(out)\n",
    "        return out\n",
    "    \n"
   ]
  },
  {
   "cell_type": "code",
   "execution_count": null,
   "id": "1bd82b1f-18d2-4aac-9d5a-23b39dd1f792",
   "metadata": {},
   "outputs": [],
   "source": [
    "def train_model(model, train, test, loss_fn, output_dim, lr=0.1,\n",
    "                batch_size=512, n_epochs=30,\n",
    "                enable_checkpoint_ensemble=True):\n",
    "    param_lrs = [{'params': param, 'lr': lr} for param in model.parameters()]\n",
    "    optimizer = torch.optim.Adam(param_lrs, lr=lr)\n",
    "\n",
    "    scheduler = torch.optim.lr_scheduler.LambdaLR(optimizer, lambda epoch: 0.8 ** epoch)\n",
    "    \n",
    "    train_loader = torch.utils.data.DataLoader(train, batch_size=batch_size, shuffle=True)\n",
    "    test_loader = torch.utils.data.DataLoader(test, batch_size=batch_size, shuffle=False)\n",
    "    all_test_preds = []\n",
    "    checkpoint_weights = [2 ** epoch for epoch in range(n_epochs)]\n",
    "    \n",
    "    train_losses = []\n",
    "    \n",
    "    for epoch in range(n_epochs):\n",
    "        start_time = time.time()\n",
    "        \n",
    "        scheduler.step()\n",
    "        \n",
    "        model.train()\n",
    "        avg_loss = 0.\n",
    "        # Signal = True\n",
    "        for data in tqdm(train_loader, disable=False):\n",
    "            x_batch = data[:-1]\n",
    "            y_batch = data[-1]\n",
    "            \n",
    "            y_pred = model(*x_batch)            \n",
    "            loss = loss_fn(y_pred.squeeze(1),y_batch.squeeze(1))\n",
    "            # if Signal:\n",
    "            #     print(y_batch)\n",
    "            #     print(y_pred)\n",
    "            #     Signal = False\n",
    "\n",
    "            optimizer.zero_grad()\n",
    "            loss.backward()\n",
    "\n",
    "            optimizer.step()\n",
    "            avg_loss += loss.item() / len(train_loader)\n",
    "        train_losses.append(avg_loss)\n",
    "            \n",
    "        model.eval()\n",
    "        test_preds = np.zeros((len(test),1))\n",
    "    \n",
    "        for i, x_batch in enumerate(test_loader):\n",
    "            y_pred = model(*x_batch).detach().cpu().numpy()\n",
    "\n",
    "            test_preds[i * batch_size:(i+1) * batch_size] = y_pred\n",
    "\n",
    "        all_test_preds.append(test_preds)\n",
    "        elapsed_time = time.time() - start_time\n",
    "        print('Epoch {}/{} \\t loss={:.4f} \\t time={:.2f}s'.format(\n",
    "              epoch + 1, n_epochs, avg_loss, elapsed_time))\n",
    "\n",
    "    if enable_checkpoint_ensemble:\n",
    "        test_preds = np.average(all_test_preds, weights=checkpoint_weights, axis=0)    \n",
    "    else:\n",
    "        test_preds = all_test_preds[-1]\n",
    "     # Plot the training loss curve\n",
    "    plt.plot(train_losses)\n",
    "    plt.xlabel('Iteration')\n",
    "    plt.ylabel('Loss')\n",
    "    plt.title('Training Loss Curve')\n",
    "    plt.show()\n",
    "        \n",
    "    return test_preds,model"
   ]
  },
  {
   "cell_type": "code",
   "execution_count": null,
   "id": "bc587572-d31d-4824-89e9-cb78f470c2a0",
   "metadata": {},
   "outputs": [
    {
     "name": "stdout",
     "output_type": "stream",
     "text": [
      "Model  0\n"
     ]
    },
    {
     "name": "stderr",
     "output_type": "stream",
     "text": [
      "/root/miniconda3/lib/python3.8/site-packages/torch/optim/lr_scheduler.py:143: UserWarning: Detected call of `lr_scheduler.step()` before `optimizer.step()`. In PyTorch 1.1.0 and later, you should call them in the opposite order: `optimizer.step()` before `lr_scheduler.step()`.  Failure to do this will result in PyTorch skipping the first value of the learning rate schedule. See more details at https://pytorch.org/docs/stable/optim.html#how-to-adjust-learning-rate\n",
      "  warnings.warn(\"Detected call of `lr_scheduler.step()` before `optimizer.step()`. \"\n"
     ]
    },
    {
     "name": "stdout",
     "output_type": "stream",
     "text": [
      "Epoch 1/30 \t loss=1556.0855 \t time=2.39s\n",
      "Epoch 2/30 \t loss=1547.6551 \t time=2.29s\n",
      "Epoch 3/30 \t loss=1545.7352 \t time=2.28s\n",
      "Epoch 4/30 \t loss=1544.7373 \t time=2.25s\n",
      "Epoch 5/30 \t loss=1544.0863 \t time=2.20s\n",
      "Epoch 6/30 \t loss=1543.6906 \t time=2.27s\n",
      "Epoch 7/30 \t loss=1543.3438 \t time=2.26s\n",
      "Epoch 8/30 \t loss=1543.1221 \t time=2.07s\n",
      "Epoch 9/30 \t loss=1542.9232 \t time=2.28s\n",
      "Epoch 10/30 \t loss=1542.7736 \t time=2.28s\n",
      "Epoch 11/30 \t loss=1542.6717 \t time=2.06s\n",
      "Epoch 12/30 \t loss=1542.5457 \t time=2.28s\n",
      "Epoch 13/30 \t loss=1542.4682 \t time=2.28s\n",
      "Epoch 14/30 \t loss=1542.4042 \t time=2.07s\n",
      "Epoch 15/30 \t loss=1542.3325 \t time=2.28s\n",
      "Epoch 16/30 \t loss=1542.2608 \t time=2.28s\n",
      "Epoch 17/30 \t loss=1542.2386 \t time=2.32s\n",
      "Epoch 18/30 \t loss=1542.1892 \t time=2.07s\n",
      "Epoch 19/30 \t loss=1542.1504 \t time=2.41s\n",
      "Epoch 20/30 \t loss=1542.1273 \t time=2.27s\n",
      "Epoch 21/30 \t loss=1542.0871 \t time=2.07s\n",
      "Epoch 22/30 \t loss=1542.0536 \t time=2.29s\n",
      "Epoch 23/30 \t loss=1542.0118 \t time=2.27s\n",
      "Epoch 24/30 \t loss=1542.0139 \t time=2.27s\n",
      "Epoch 25/30 \t loss=1542.0055 \t time=2.10s\n",
      "Epoch 26/30 \t loss=1541.9592 \t time=2.27s\n",
      "Epoch 27/30 \t loss=1541.9734 \t time=2.28s\n",
      "Epoch 28/30 \t loss=1541.9793 \t time=2.09s\n",
      "Epoch 29/30 \t loss=1541.9233 \t time=2.32s\n",
      "Epoch 30/30 \t loss=1541.9635 \t time=2.30s\n"
     ]
    },
    {
     "data": {
      "image/png": "[encoded data removed]",
      "text/plain": [
       "<Figure size 432x288 with 1 Axes>"
      ]
     },
     "metadata": {
      "needs_background": "light"
     },
     "output_type": "display_data"
    },
    {
     "name": "stdout",
     "output_type": "stream",
     "text": [
      "\n",
      "Model  1\n",
      "Epoch 1/30 \t loss=1555.7793 \t time=2.13s\n",
      "Epoch 2/30 \t loss=1547.5191 \t time=2.49s\n",
      "Epoch 3/30 \t loss=1545.6099 \t time=2.45s\n",
      "Epoch 4/30 \t loss=1544.7067 \t time=2.11s\n",
      "Epoch 5/30 \t loss=1544.0136 \t time=2.37s\n",
      "Epoch 6/30 \t loss=1543.6559 \t time=2.33s\n",
      "Epoch 7/30 \t loss=1543.3519 \t time=2.11s\n",
      "Epoch 8/30 \t loss=1543.0942 \t time=2.27s\n",
      "Epoch 9/30 \t loss=1542.9530 \t time=2.27s\n",
      "Epoch 10/30 \t loss=1542.7506 \t time=2.26s\n",
      "Epoch 11/30 \t loss=1542.6267 \t time=2.08s\n",
      "Epoch 12/30 \t loss=1542.5801 \t time=2.35s\n",
      "Epoch 13/30 \t loss=1542.4501 \t time=2.29s\n",
      "Epoch 14/30 \t loss=1542.3921 \t time=2.09s\n",
      "Epoch 15/30 \t loss=1542.3244 \t time=2.28s\n",
      "Epoch 16/30 \t loss=1542.2678 \t time=2.28s\n",
      "Epoch 17/30 \t loss=1542.2253 \t time=2.27s\n",
      "Epoch 18/30 \t loss=1542.1682 \t time=2.08s\n",
      "Epoch 19/30 \t loss=1542.1368 \t time=2.28s\n",
      "Epoch 20/30 \t loss=1542.0763 \t time=2.29s\n",
      "Epoch 21/30 \t loss=1542.0680 \t time=2.23s\n",
      "Epoch 22/30 \t loss=1542.0515 \t time=2.53s\n",
      "Epoch 23/30 \t loss=1542.0232 \t time=2.40s\n",
      "Epoch 24/30 \t loss=1542.0112 \t time=2.30s\n",
      "Epoch 25/30 \t loss=1541.9884 \t time=2.07s\n",
      "Epoch 26/30 \t loss=1541.9922 \t time=2.28s\n",
      "Epoch 27/30 \t loss=1541.9623 \t time=2.27s\n",
      "Epoch 28/30 \t loss=1541.9199 \t time=2.07s\n",
      "Epoch 29/30 \t loss=1541.9413 \t time=2.26s\n",
      "Epoch 30/30 \t loss=1541.9477 \t time=2.25s\n"
     ]
    },
    {
     "data": {
      "image/png": "[encoded data removed]",
      "text/plain": [
       "<Figure size 432x288 with 1 Axes>"
      ]
     },
     "metadata": {
      "needs_background": "light"
     },
     "output_type": "display_data"
    },
    {
     "name": "stdout",
     "output_type": "stream",
     "text": [
      "\n"
     ]
    }
   ],
   "source": [
    "train_dataset = data.TensorDataset(x_train_torch, y_train_baseline.reshape(-1,1))\n",
    "test_dataset = data.TensorDataset(x_test_torch)\n",
    "\n",
    "all_test_preds = []\n",
    "\n",
    "for model_idx in range(2):\n",
    "    print('Model ', model_idx)\n",
    "    seed_everything(1234 + model_idx)\n",
    "    \n",
    "    model = NeuralNet(embedding_matrix)\n",
    "    model.cuda()\n",
    "    \n",
    "    test_preds,model = train_model(model, train_dataset, test_dataset, output_dim=y_train_baseline.shape[-1], \n",
    "                             loss_fn=nn.CrossEntropyLoss())\n",
    "    torch.save(model.state_dict(), f'LR Baseline model{model_idx}.pth')\n",
    "    all_test_preds.append(test_preds)\n",
    "    print()"
   ]
  },
  {
   "cell_type": "code",
   "execution_count": null,
   "id": "debfcf24-a551-4552-a615-f2601844d3e4",
   "metadata": {},
   "outputs": [
    {
     "name": "stdout",
     "output_type": "stream",
     "text": [
      "Confusion Matrix of Model 0:\n",
      "[[11374  3128]\n",
      " [ 1997 12368]]\n",
      "acc of model0 =  0.8224616343922125\n",
      "Confusion Matrix of Model 1:\n",
      "[[11450  3052]\n",
      " [ 2056 12309]]\n",
      "acc of model1 =  0.8230505421415457\n",
      "Confusion Matrix of Ensemble Model:\n",
      "[[11414  3088]\n",
      " [ 2014 12351]]\n",
      "acc of ensemble model =  0.823258391935428\n"
     ]
    }
   ],
   "source": [
    "from sklearn.metrics import confusion_matrix\n",
    "NUM_MODELS = 2\n",
    "for model_idx in range(NUM_MODELS):\n",
    "    preds = np.where(all_test_preds[model_idx]>0.5,1,0)\n",
    "    cm = confusion_matrix(y_test, preds)\n",
    "    # 输出混淆矩阵\n",
    "    print(f\"Confusion Matrix of Model {model_idx}:\")\n",
    "    print(cm)\n",
    "    print(f'acc of model{model_idx} = ',(cm[0][0]+cm[1][1])/sum(sum(cm)))\n",
    "\n",
    "ensemble_preds = np.zeros(y_test.shape)\n",
    "for model_idx in range(NUM_MODELS):\n",
    "    ensemble_preds += all_test_preds[model_idx].squeeze(1)\n",
    "ensemble_preds /= NUM_MODELS\n",
    "\n",
    "cm = confusion_matrix(y_test, np.where(ensemble_preds>0.5,1,0))\n",
    "# 输出混淆矩阵\n",
    "print(f\"Confusion Matrix of Ensemble Model:\")\n",
    "print(cm)\n",
    "print(f'acc of ensemble model = ',np.sum(np.where(ensemble_preds>0.5,1,0)==y_test)/preds.shape[0])\n",
    "\n"
   ]
  }
 ],
 "metadata": {
  "kernelspec": {
   "display_name": "Python 3 (ipykernel)",
   "language": "python",
   "name": "python3"
  },
  "language_info": {
   "codemirror_mode": {
    "name": "ipython",
    "version": 3
   },
   "file_extension": ".py",
   "mimetype": "text/x-python",
   "name": "python",
   "nbconvert_exporter": "python",
   "pygments_lexer": "ipython3",
   "version": "3.8.10"
  }
 },
 "nbformat": 4,
 "nbformat_minor": 5
}
