{
 "cells": [
  {
   "cell_type": "code",
   "execution_count": 1,
   "metadata": {},
   "outputs": [],
   "source": [
    "import numpy as np\n",
    "import pandas as pd\n",
    "import os\n",
    "import time\n",
    "import gc\n",
    "import random\n",
    "from tqdm.notebook import tqdm\n",
    "from keras.preprocessing import text, sequence\n",
    "from tensorflow.keras.preprocessing.sequence import pad_sequences\n",
    "import torch\n",
    "from torch import nn\n",
    "from torch.utils import data\n",
    "from torch.nn import functional as F\n",
    "from sklearn.model_selection import train_test_split"
   ]
  },
  {
   "cell_type": "code",
   "execution_count": 2,
   "metadata": {},
   "outputs": [],
   "source": [
    "# disable progress bars when submitting\n",
    "def is_interactive():\n",
    "   return 'SHLVL' not in os.environ\n",
    "\n",
    "if not is_interactive():\n",
    "    def nop(it, *a, **k):\n",
    "        return it\n",
    "\n",
    "    tqdm = nop"
   ]
  },
  {
   "cell_type": "code",
   "execution_count": 2,
   "metadata": {},
   "outputs": [],
   "source": [
    "def seed_everything(seed=1234):\n",
    "    random.seed(seed)\n",
    "    os.environ['PYTHONHASHSEED'] = str(seed)\n",
    "    np.random.seed(seed)\n",
    "    torch.manual_seed(seed)\n",
    "    torch.cuda.manual_seed(seed)\n",
    "    torch.backends.cudnn.deterministic = True\n",
    "seed_everything()"
   ]
  },
  {
   "cell_type": "markdown",
   "metadata": {},
   "source": [
    "# Preprocessing"
   ]
  },
  {
   "cell_type": "markdown",
   "metadata": {},
   "source": [
    "读入文本并进行预处理"
   ]
  },
  {
   "cell_type": "code",
   "execution_count": 3,
   "metadata": {},
   "outputs": [],
   "source": [
    "NUM_MODELS = 2\n",
    "LSTM_UNITS = 128\n",
    "DENSE_HIDDEN_UNITS = 4 * LSTM_UNITS\n",
    "MAX_LEN = 220"
   ]
  },
  {
   "cell_type": "code",
   "execution_count": 4,
   "metadata": {},
   "outputs": [],
   "source": [
    "def preprocess(data):\n",
    "    '''\n",
    "    Credit goes to https://www.kaggle.com/gpreda/jigsaw-fast-compact-solution\n",
    "    '''\n",
    "    punct = \"/-'?!.,#$%\\'()*+-/:;<=>@[\\\\]^_`{|}~`\" + '\"\"“”’' + '∞θ÷α•à−β∅³π‘₹´°£€\\×™√²—–&'\n",
    "    def clean_special_chars(text, punct):\n",
    "        for p in punct:\n",
    "            text = text.replace(p, ' ')\n",
    "        return text\n",
    "\n",
    "    data = data.astype(str).apply(lambda x: clean_special_chars(x, punct))\n",
    "    return data"
   ]
  },
  {
   "cell_type": "code",
   "execution_count": 5,
   "metadata": {},
   "outputs": [],
   "source": [
    "max_features = None\n",
    "\n",
    "train = pd.read_csv('../dataset/train.csv')\n",
    "# test = pd.read_csv('../input/jigsaw-unintended-bias-in-toxicity-classification/test.csv')\n",
    "\n",
    "x_train = preprocess(train['comment_text'])\n",
    "y_train = np.where(train['target'] >= 0.5, 1, 0)\n",
    "y_aux_train = train[['target', 'severe_toxicity', 'obscene', 'identity_attack', 'insult', 'threat']]"
   ]
  },
  {
   "cell_type": "code",
   "execution_count": 7,
   "metadata": {},
   "outputs": [],
   "source": [
    "# 均衡化数据集\n",
    "# 确定数量较少的类别\n",
    "count_class_0 = np.sum(y_train == 0)\n",
    "count_class_1 = np.sum(y_train == 1)\n",
    "\n",
    "# 从数量较多的类别中随机抽样\n",
    "index_class_0 = np.where(y_train == 0)[0]\n",
    "index_class_1 = np.where(y_train == 1)[0]\n",
    "\n",
    "# 从数量较多的类别中随机选择与数量较少的类别相同数量的样本\n",
    "seed_everything()\n",
    "selected_index_class_0 = np.random.choice(index_class_0, count_class_1, replace=False)\n",
    "\n",
    "# 构建平衡的数据集\n",
    "x_train = np.concatenate([x_train[selected_index_class_0], x_train[index_class_1]])\n",
    "y_train = np.concatenate([y_train[selected_index_class_0], y_train[index_class_1]])\n",
    "y_aux_train = np.concatenate([y_aux_train.iloc[selected_index_class_0], y_aux_train.iloc[index_class_1]])\n"
   ]
  },
  {
   "cell_type": "code",
   "execution_count": 8,
   "metadata": {},
   "outputs": [
    {
     "data": {
      "text/plain": [
       "122578"
      ]
     },
     "execution_count": 8,
     "metadata": {},
     "output_type": "execute_result"
    }
   ],
   "source": [
    "# 划分训练集和测试集，按照9:1的比例\n",
    "x_train, x_test, y_train, y_test, y_aux_train, y_aux_test = train_test_split(\n",
    "    x_train, y_train, y_aux_train, test_size=0.1, random_state=1624)\n",
    "\n",
    "tokenizer = text.Tokenizer()\n",
    "tokenizer.fit_on_texts(list(x_train) + list(x_test))\n",
    "\n",
    "x_train = tokenizer.texts_to_sequences(x_train)\n",
    "x_test = tokenizer.texts_to_sequences(x_test)\n",
    "x_train = pad_sequences(x_train, maxlen=MAX_LEN)\n",
    "x_test = pad_sequences(x_test, maxlen=MAX_LEN)\n",
    "\n",
    "max_features = max_features or len(tokenizer.word_index) + 1\n",
    "max_features"
   ]
  },
  {
   "cell_type": "code",
   "execution_count": 9,
   "metadata": {},
   "outputs": [],
   "source": [
    "x_train_torch = torch.tensor(x_train, dtype=torch.long).cuda()\n",
    "x_test_torch = torch.tensor(x_test, dtype=torch.long).cuda()\n",
    "y_train_torch = torch.tensor(np.hstack([y_train[:, np.newaxis], y_aux_train]), dtype=torch.float32).cuda()\n",
    "y_train_baseline = torch.tensor(y_train, dtype=torch.float32).cuda()"
   ]
  },
  {
   "cell_type": "markdown",
   "metadata": {},
   "source": [
    "读入对应的预训练embedding"
   ]
  },
  {
   "cell_type": "code",
   "execution_count": 10,
   "metadata": {},
   "outputs": [],
   "source": [
    "CRAWL_EMBEDDING_PATH = '../WordEmbedding/crawl-300d-2M.vec'\n",
    "GLOVE_EMBEDDING_PATH = '../WordEmbedding/glove.840B.300d.txt'\n",
    "\n",
    "def get_coefs(word, *arr):\n",
    "    return word, np.asarray(arr, dtype='float32')\n",
    "\n",
    "def load_embeddings(path):\n",
    "    with open(path) as f:\n",
    "        return dict(get_coefs(*line.strip().split(' ')) for line in tqdm(f))\n",
    "\n",
    "def build_matrix(word_index, path):\n",
    "    embedding_index = load_embeddings(path)\n",
    "    embedding_matrix = np.zeros((len(word_index) + 1, 300))\n",
    "    unknown_words = []\n",
    "    \n",
    "    for word, i in word_index.items():\n",
    "        try:\n",
    "            embedding_matrix[i] = embedding_index[word]\n",
    "        except KeyError:\n",
    "            unknown_words.append(word)\n",
    "    return embedding_matrix, unknown_words"
   ]
  },
  {
   "cell_type": "code",
   "execution_count": 11,
   "metadata": {},
   "outputs": [
    {
     "name": "stdout",
     "output_type": "stream",
     "text": [
      "n unknown words (crawl):  38008\n",
      "n unknown words (glove):  36611\n"
     ]
    }
   ],
   "source": [
    "crawl_matrix, unknown_words_crawl = build_matrix(tokenizer.word_index, CRAWL_EMBEDDING_PATH)\n",
    "print('n unknown words (crawl): ', len(unknown_words_crawl))\n",
    "\n",
    "glove_matrix, unknown_words_glove = build_matrix(tokenizer.word_index, GLOVE_EMBEDDING_PATH)\n",
    "print('n unknown words (glove): ', len(unknown_words_glove))"
   ]
  },
  {
   "cell_type": "code",
   "execution_count": 12,
   "metadata": {},
   "outputs": [
    {
     "data": {
      "text/plain": [
       "0"
      ]
     },
     "execution_count": 12,
     "metadata": {},
     "output_type": "execute_result"
    }
   ],
   "source": [
    "embedding_matrix = np.concatenate([crawl_matrix, glove_matrix], axis=-1)\n",
    "embedding_matrix.shape\n",
    "\n",
    "del crawl_matrix\n",
    "del glove_matrix\n",
    "gc.collect()"
   ]
  },
  {
   "cell_type": "markdown",
   "metadata": {},
   "source": [
    "# Model"
   ]
  },
  {
   "cell_type": "code",
   "execution_count": 13,
   "metadata": {},
   "outputs": [],
   "source": [
    "class SpatialDropout(nn.Dropout2d):\n",
    "    def forward(self, x):\n",
    "        x = x.unsqueeze(2)    # (N, T, 1, K)\n",
    "        x = x.permute(0, 3, 2, 1)  # (N, K, 1, T)\n",
    "        x = super(SpatialDropout, self).forward(x)  # (N, K, 1, T), some features are masked\n",
    "        x = x.permute(0, 3, 2, 1)  # (N, T, 1, K)\n",
    "        x = x.squeeze(2)  # (N, T, K)\n",
    "        return x\n",
    "    \n",
    "class NeuralNet(nn.Module):\n",
    "    def __init__(self, embedding_matrix, num_aux_targets):\n",
    "        super(NeuralNet, self).__init__()\n",
    "        embed_size = embedding_matrix.shape[1]\n",
    "        \n",
    "        self.embedding = nn.Embedding(max_features, embed_size)\n",
    "        self.embedding.weight = nn.Parameter(torch.tensor(embedding_matrix, dtype=torch.float32))\n",
    "        self.embedding.weight.requires_grad = False\n",
    "        self.embedding_dropout = SpatialDropout(0.3)\n",
    "        \n",
    "        self.lstm1 = nn.LSTM(embed_size, LSTM_UNITS, bidirectional=True, batch_first=True)\n",
    "        self.lstm2 = nn.LSTM(LSTM_UNITS * 2, LSTM_UNITS, bidirectional=True, batch_first=True)\n",
    "    \n",
    "        self.linear1 = nn.Linear(DENSE_HIDDEN_UNITS, DENSE_HIDDEN_UNITS)\n",
    "        self.linear2 = nn.Linear(DENSE_HIDDEN_UNITS, DENSE_HIDDEN_UNITS)\n",
    "        \n",
    "        self.linear_out = nn.Linear(DENSE_HIDDEN_UNITS, 1)\n",
    "        self.linear_aux_out = nn.Linear(DENSE_HIDDEN_UNITS, num_aux_targets)\n",
    "        \n",
    "    def forward(self, x):\n",
    "        h_embedding = self.embedding(x)\n",
    "        h_embedding = self.embedding_dropout(h_embedding)\n",
    "        \n",
    "        h_lstm1, _ = self.lstm1(h_embedding)\n",
    "        h_lstm2, _ = self.lstm2(h_lstm1)\n",
    "        \n",
    "        # global average pooling\n",
    "        avg_pool = torch.mean(h_lstm2, 1)\n",
    "        # global max pooling\n",
    "        max_pool, _ = torch.max(h_lstm2, 1)\n",
    "        \n",
    "        h_conc = torch.cat((max_pool, avg_pool), 1)\n",
    "        h_conc_linear1  = F.relu(self.linear1(h_conc))\n",
    "        h_conc_linear2  = F.relu(self.linear2(h_conc))\n",
    "        \n",
    "        hidden = h_conc + h_conc_linear1 + h_conc_linear2\n",
    "        \n",
    "        result = self.linear_out(hidden)\n",
    "        aux_result = self.linear_aux_out(hidden)\n",
    "        out = torch.cat([result, aux_result], 1)\n",
    "        \n",
    "        return out"
   ]
  },
  {
   "cell_type": "markdown",
   "metadata": {},
   "source": [
    "# Training"
   ]
  },
  {
   "cell_type": "code",
   "execution_count": 14,
   "metadata": {},
   "outputs": [],
   "source": [
    "import matplotlib.pyplot as plt\n",
    "def sigmoid(x):\n",
    "    return 1 / (1 + np.exp(-x))\n",
    "\n",
    "def train_model(model, train, test, loss_fn, output_dim, lr=0.005,\n",
    "                batch_size=512, n_epochs=30,\n",
    "                enable_checkpoint_ensemble=True):\n",
    "    param_lrs = [{'params': param, 'lr': lr} for param in model.parameters()]\n",
    "    optimizer = torch.optim.Adam(param_lrs, lr=lr)\n",
    "\n",
    "    scheduler = torch.optim.lr_scheduler.LambdaLR(optimizer, lambda epoch: 0.95 ** epoch)\n",
    "    \n",
    "    train_loader = torch.utils.data.DataLoader(train, batch_size=batch_size, shuffle=True)\n",
    "    test_loader = torch.utils.data.DataLoader(test, batch_size=batch_size, shuffle=False)\n",
    "    all_test_preds = []\n",
    "    checkpoint_weights = [2 ** epoch for epoch in range(n_epochs)]\n",
    "    \n",
    "    train_losses = []\n",
    "    \n",
    "    for epoch in range(n_epochs):\n",
    "        start_time = time.time()\n",
    "        \n",
    "        scheduler.step()\n",
    "        \n",
    "        model.train()\n",
    "        avg_loss = 0.\n",
    "        \n",
    "        for data in tqdm(train_loader, disable=False):\n",
    "            x_batch = data[:-1]\n",
    "            y_batch = data[-1]\n",
    "\n",
    "            y_pred = model(*x_batch)            \n",
    "            loss = loss_fn(y_pred, y_batch)\n",
    "\n",
    "            optimizer.zero_grad()\n",
    "            loss.backward()\n",
    "\n",
    "            optimizer.step()\n",
    "            avg_loss += loss.item() / len(train_loader)\n",
    "            train_losses.append(loss.item())\n",
    "            \n",
    "        model.eval()\n",
    "        test_preds = np.zeros((len(test), output_dim))\n",
    "    \n",
    "        for i, x_batch in enumerate(test_loader):\n",
    "            y_pred = sigmoid(model(*x_batch).detach().cpu().numpy())\n",
    "\n",
    "            test_preds[i * batch_size:(i+1) * batch_size, :] = y_pred\n",
    "\n",
    "        all_test_preds.append(test_preds)\n",
    "        elapsed_time = time.time() - start_time\n",
    "        print('Epoch {}/{} \\t loss={:.4f} \\t time={:.2f}s'.format(\n",
    "              epoch + 1, n_epochs, avg_loss, elapsed_time))\n",
    "\n",
    "    if enable_checkpoint_ensemble:\n",
    "        test_preds = np.average(all_test_preds, weights=checkpoint_weights, axis=0)    \n",
    "    else:\n",
    "        test_preds = all_test_preds[-1]\n",
    "     # Plot the training loss curve\n",
    "    plt.plot(train_losses)\n",
    "    plt.xlabel('Iteration')\n",
    "    plt.ylabel('Loss')\n",
    "    plt.title('Training Loss Curve')\n",
    "    plt.show()\n",
    "        \n",
    "    return test_preds[:,0],model"
   ]
  },
  {
   "cell_type": "code",
   "execution_count": 27,
   "metadata": {},
   "outputs": [
    {
     "name": "stdout",
     "output_type": "stream",
     "text": [
      "Model  0\n",
      "Epoch 1/30 \t loss=0.2430 \t time=17.12s\n",
      "Epoch 2/30 \t loss=0.2238 \t time=17.29s\n",
      "Epoch 3/30 \t loss=0.2194 \t time=17.49s\n",
      "Epoch 4/30 \t loss=0.2160 \t time=17.13s\n",
      "Epoch 5/30 \t loss=0.2133 \t time=17.59s\n",
      "Epoch 6/30 \t loss=0.2110 \t time=17.16s\n",
      "Epoch 7/30 \t loss=0.2087 \t time=17.51s\n",
      "Epoch 8/30 \t loss=0.2068 \t time=17.18s\n",
      "Epoch 9/30 \t loss=0.2050 \t time=17.51s\n",
      "Epoch 10/30 \t loss=0.2032 \t time=17.48s\n",
      "Epoch 11/30 \t loss=0.2020 \t time=17.44s\n",
      "Epoch 12/30 \t loss=0.2004 \t time=17.64s\n",
      "Epoch 13/30 \t loss=0.1989 \t time=17.56s\n",
      "Epoch 14/30 \t loss=0.1975 \t time=17.29s\n",
      "Epoch 15/30 \t loss=0.1965 \t time=17.56s\n",
      "Epoch 16/30 \t loss=0.1954 \t time=17.26s\n",
      "Epoch 17/30 \t loss=0.1942 \t time=17.68s\n",
      "Epoch 18/30 \t loss=0.1933 \t time=17.56s\n",
      "Epoch 19/30 \t loss=0.1922 \t time=17.31s\n",
      "Epoch 20/30 \t loss=0.1914 \t time=17.55s\n",
      "Epoch 21/30 \t loss=0.1903 \t time=17.28s\n",
      "Epoch 22/30 \t loss=0.1895 \t time=17.50s\n",
      "Epoch 23/30 \t loss=0.1888 \t time=17.30s\n",
      "Epoch 24/30 \t loss=0.1880 \t time=17.56s\n",
      "Epoch 25/30 \t loss=0.1873 \t time=17.56s\n",
      "Epoch 26/30 \t loss=0.1868 \t time=17.35s\n",
      "Epoch 27/30 \t loss=0.1863 \t time=17.57s\n",
      "Epoch 28/30 \t loss=0.1854 \t time=17.54s\n",
      "Epoch 29/30 \t loss=0.1849 \t time=17.31s\n",
      "Epoch 30/30 \t loss=0.1845 \t time=17.57s\n"
     ]
    },
    {
     "data": {
      "image/png": "[encoded data removed]",
      "text/plain": [
       "<Figure size 432x288 with 1 Axes>"
      ]
     },
     "metadata": {
      "needs_background": "light"
     },
     "output_type": "display_data"
    },
    {
     "name": "stdout",
     "output_type": "stream",
     "text": [
      "\n",
      "Model  1\n",
      "Epoch 1/30 \t loss=0.2439 \t time=17.54s\n",
      "Epoch 2/30 \t loss=0.2238 \t time=17.21s\n",
      "Epoch 3/30 \t loss=0.2190 \t time=17.44s\n",
      "Epoch 4/30 \t loss=0.2159 \t time=17.19s\n",
      "Epoch 5/30 \t loss=0.2132 \t time=17.46s\n",
      "Epoch 6/30 \t loss=0.2109 \t time=17.46s\n",
      "Epoch 7/30 \t loss=0.2087 \t time=17.30s\n",
      "Epoch 8/30 \t loss=0.2067 \t time=17.46s\n",
      "Epoch 9/30 \t loss=0.2049 \t time=17.44s\n",
      "Epoch 10/30 \t loss=0.2032 \t time=17.18s\n",
      "Epoch 11/30 \t loss=0.2019 \t time=17.48s\n",
      "Epoch 12/30 \t loss=0.2001 \t time=17.21s\n",
      "Epoch 13/30 \t loss=0.1988 \t time=17.51s\n",
      "Epoch 14/30 \t loss=0.1977 \t time=17.48s\n",
      "Epoch 15/30 \t loss=0.1963 \t time=17.24s\n",
      "Epoch 16/30 \t loss=0.1951 \t time=17.57s\n",
      "Epoch 17/30 \t loss=0.1939 \t time=17.23s\n",
      "Epoch 18/30 \t loss=0.1929 \t time=17.48s\n",
      "Epoch 19/30 \t loss=0.1920 \t time=17.25s\n",
      "Epoch 20/30 \t loss=0.1911 \t time=17.51s\n",
      "Epoch 21/30 \t loss=0.1903 \t time=17.67s\n",
      "Epoch 22/30 \t loss=0.1894 \t time=17.22s\n",
      "Epoch 23/30 \t loss=0.1886 \t time=17.47s\n",
      "Epoch 24/30 \t loss=0.1878 \t time=17.51s\n",
      "Epoch 25/30 \t loss=0.1872 \t time=17.25s\n",
      "Epoch 26/30 \t loss=0.1865 \t time=17.53s\n",
      "Epoch 27/30 \t loss=0.1860 \t time=17.26s\n",
      "Epoch 28/30 \t loss=0.1854 \t time=17.48s\n",
      "Epoch 29/30 \t loss=0.1849 \t time=17.51s\n",
      "Epoch 30/30 \t loss=0.1845 \t time=17.52s\n"
     ]
    },
    {
     "data": {
      "image/png": "[encoded data removed]",
      "text/plain": [
       "<Figure size 432x288 with 1 Axes>"
      ]
     },
     "metadata": {
      "needs_background": "light"
     },
     "output_type": "display_data"
    },
    {
     "name": "stdout",
     "output_type": "stream",
     "text": [
      "\n"
     ]
    }
   ],
   "source": [
    "train_dataset = data.TensorDataset(x_train_torch, y_train_torch)\n",
    "test_dataset = data.TensorDataset(x_test_torch)\n",
    "\n",
    "all_test_preds = []\n",
    "\n",
    "for model_idx in range(NUM_MODELS):\n",
    "    print('Model ', model_idx)\n",
    "    seed_everything(1234 + model_idx)\n",
    "    \n",
    "    model = NeuralNet(embedding_matrix, y_aux_train.shape[-1])\n",
    "    model.cuda()\n",
    "    \n",
    "    test_preds,model = train_model(model, train_dataset, test_dataset, output_dim=y_train_torch.shape[-1], \n",
    "                             loss_fn=nn.BCEWithLogitsLoss(reduction='mean'))\n",
    "    torch.save(model.state_dict(), f'model{model_idx}.pth')\n",
    "    all_test_preds.append(test_preds)\n",
    "    print()"
   ]
  },
  {
   "cell_type": "code",
   "execution_count": 28,
   "metadata": {},
   "outputs": [
    {
     "name": "stdout",
     "output_type": "stream",
     "text": [
      "Confusion Matrix of Model 0:\n",
      "[[12652  1850]\n",
      " [ 1259 13106]]\n",
      "acc of model0 =  0.8922991651366612\n",
      "Confusion Matrix of Model 1:\n",
      "[[12654  1848]\n",
      " [ 1170 13195]]\n",
      "acc of model1 =  0.8954515536772093\n",
      "Confusion Matrix of Ensemble Model:\n",
      "[[12733  1769]\n",
      " [ 1082 13283]]\n",
      "acc of ensemble model =  0.9012367062735996\n"
     ]
    }
   ],
   "source": [
    "from sklearn.metrics import confusion_matrix\n",
    "for model_idx in range(NUM_MODELS):\n",
    "    preds = np.where(all_test_preds[model_idx]>0.5,1,0)\n",
    "    cm = confusion_matrix(y_test, preds)\n",
    "    # 输出混淆矩阵\n",
    "    print(f\"Confusion Matrix of Model {model_idx}:\")\n",
    "    print(cm)\n",
    "    print(f'acc of model{model_idx} = ',np.sum(preds==y_test)/preds.shape[0])\n",
    "\n",
    "ensemble_preds = np.zeros(y_test.shape)\n",
    "for model_idx in range(NUM_MODELS):\n",
    "    ensemble_preds += all_test_preds[model_idx]\n",
    "ensemble_preds /= NUM_MODELS\n",
    "\n",
    "cm = confusion_matrix(y_test, np.where(ensemble_preds>0.5,1,0))\n",
    "# 输出混淆矩阵\n",
    "print(f\"Confusion Matrix of Ensemble Model:\")\n",
    "print(cm)\n",
    "print(f'acc of ensemble model = ',np.sum(np.where(ensemble_preds>0.5,1,0)==y_test)/preds.shape[0])\n",
    "\n"
   ]
  },
  {
   "cell_type": "markdown",
   "metadata": {},
   "source": [
    "这个地方20个epoch的效果也跟这里差不多了，但是训练集loss会更低一些，可能可以再训练训练。"
   ]
  },
  {
   "cell_type": "markdown",
   "metadata": {},
   "source": [
    "# Non-Multi-task"
   ]
  },
  {
   "cell_type": "code",
   "execution_count": 22,
   "metadata": {},
   "outputs": [],
   "source": [
    "class NeuralNet(nn.Module):\n",
    "    def __init__(self, embedding_matrix):\n",
    "        super(NeuralNet, self).__init__()\n",
    "        embed_size = embedding_matrix.shape[1]\n",
    "        \n",
    "        self.embedding = nn.Embedding(max_features, embed_size)\n",
    "        self.embedding.weight = nn.Parameter(torch.tensor(embedding_matrix, dtype=torch.float32))\n",
    "        self.embedding.weight.requires_grad = False\n",
    "        self.embedding_dropout = SpatialDropout(0.3)\n",
    "        \n",
    "        self.lstm1 = nn.LSTM(embed_size, LSTM_UNITS, bidirectional=True, batch_first=True)\n",
    "        self.lstm2 = nn.LSTM(LSTM_UNITS * 2, LSTM_UNITS, bidirectional=True, batch_first=True)\n",
    "    \n",
    "        self.linear1 = nn.Linear(DENSE_HIDDEN_UNITS, DENSE_HIDDEN_UNITS)\n",
    "        self.linear2 = nn.Linear(DENSE_HIDDEN_UNITS, DENSE_HIDDEN_UNITS)\n",
    "        \n",
    "        self.linear_out = nn.Linear(DENSE_HIDDEN_UNITS, 1)\n",
    "        \n",
    "    def forward(self, x):\n",
    "        h_embedding = self.embedding(x)\n",
    "        h_embedding = self.embedding_dropout(h_embedding)\n",
    "        \n",
    "        h_lstm1, _ = self.lstm1(h_embedding)\n",
    "        h_lstm2, _ = self.lstm2(h_lstm1)\n",
    "        \n",
    "        # global average pooling\n",
    "        avg_pool = torch.mean(h_lstm2, 1)\n",
    "        # global max pooling\n",
    "        max_pool, _ = torch.max(h_lstm2, 1)\n",
    "        \n",
    "        h_conc = torch.cat((max_pool, avg_pool), 1)\n",
    "        h_conc_linear1  = F.relu(self.linear1(h_conc))\n",
    "        h_conc_linear2  = F.relu(self.linear2(h_conc))\n",
    "        \n",
    "        hidden = h_conc + h_conc_linear1 + h_conc_linear2\n",
    "        \n",
    "        result = self.linear_out(hidden).squeeze()\n",
    "        \n",
    "        return result"
   ]
  },
  {
   "cell_type": "code",
   "execution_count": 24,
   "metadata": {},
   "outputs": [],
   "source": [
    "def train_model(model, train, test, loss_fn, output_dim, lr=0.005,\n",
    "                batch_size=512, n_epochs=30,\n",
    "                enable_checkpoint_ensemble=True):\n",
    "    param_lrs = [{'params': param, 'lr': lr} for param in model.parameters()]\n",
    "    optimizer = torch.optim.Adam(param_lrs, lr=lr)\n",
    "\n",
    "    scheduler = torch.optim.lr_scheduler.LambdaLR(optimizer, lambda epoch: 0.95 ** epoch)\n",
    "    \n",
    "    train_loader = torch.utils.data.DataLoader(train, batch_size=batch_size, shuffle=True)\n",
    "    test_loader = torch.utils.data.DataLoader(test, batch_size=batch_size, shuffle=False)\n",
    "    all_test_preds = []\n",
    "    checkpoint_weights = [2 ** epoch for epoch in range(n_epochs)]\n",
    "    \n",
    "    train_losses = []\n",
    "    \n",
    "    for epoch in range(n_epochs):\n",
    "        start_time = time.time()\n",
    "        \n",
    "        scheduler.step()\n",
    "        \n",
    "        model.train()\n",
    "        avg_loss = 0.\n",
    "        \n",
    "        for data in tqdm(train_loader, disable=False):\n",
    "            x_batch = data[:-1]\n",
    "            y_batch = data[-1]\n",
    "\n",
    "            y_pred = model(*x_batch)            \n",
    "            loss = loss_fn(y_pred, y_batch)\n",
    "\n",
    "            optimizer.zero_grad()\n",
    "            loss.backward()\n",
    "\n",
    "            optimizer.step()\n",
    "            avg_loss += loss.item() / len(train_loader)\n",
    "            train_losses.append(loss.item())\n",
    "            \n",
    "        model.eval()\n",
    "        test_preds = np.zeros(len(test))\n",
    "    \n",
    "        for i, x_batch in enumerate(test_loader):\n",
    "            y_pred = sigmoid(model(*x_batch).detach().cpu().numpy())\n",
    "\n",
    "            test_preds[i * batch_size:(i+1) * batch_size] = y_pred\n",
    "\n",
    "        all_test_preds.append(test_preds)\n",
    "        elapsed_time = time.time() - start_time\n",
    "        print('Epoch {}/{} \\t loss={:.4f} \\t time={:.2f}s'.format(\n",
    "              epoch + 1, n_epochs, avg_loss, elapsed_time))\n",
    "\n",
    "    if enable_checkpoint_ensemble:\n",
    "        test_preds = np.average(all_test_preds, weights=checkpoint_weights, axis=0)    \n",
    "    else:\n",
    "        test_preds = all_test_preds[-1]\n",
    "     # Plot the training loss curve\n",
    "    plt.plot(train_losses)\n",
    "    plt.xlabel('Iteration')\n",
    "    plt.ylabel('Loss')\n",
    "    plt.title('Training Loss Curve')\n",
    "    plt.show()\n",
    "        \n",
    "    return test_preds,model"
   ]
  },
  {
   "cell_type": "code",
   "execution_count": 25,
   "metadata": {},
   "outputs": [
    {
     "name": "stdout",
     "output_type": "stream",
     "text": [
      "Model  0\n",
      "Epoch 1/30 \t loss=0.3025 \t time=17.50s\n",
      "Epoch 2/30 \t loss=0.2484 \t time=17.18s\n",
      "Epoch 3/30 \t loss=0.2309 \t time=17.38s\n",
      "Epoch 4/30 \t loss=0.2178 \t time=17.71s\n",
      "Epoch 5/30 \t loss=0.2047 \t time=17.32s\n",
      "Epoch 6/30 \t loss=0.1939 \t time=17.66s\n",
      "Epoch 7/30 \t loss=0.1816 \t time=17.57s\n",
      "Epoch 8/30 \t loss=0.1726 \t time=17.69s\n",
      "Epoch 9/30 \t loss=0.1625 \t time=17.38s\n",
      "Epoch 10/30 \t loss=0.1523 \t time=17.64s\n",
      "Epoch 11/30 \t loss=0.1444 \t time=17.59s\n",
      "Epoch 12/30 \t loss=0.1363 \t time=17.41s\n",
      "Epoch 13/30 \t loss=0.1284 \t time=17.62s\n",
      "Epoch 14/30 \t loss=0.1217 \t time=17.74s\n",
      "Epoch 15/30 \t loss=0.1152 \t time=17.40s\n",
      "Epoch 16/30 \t loss=0.1071 \t time=17.64s\n",
      "Epoch 17/30 \t loss=0.1028 \t time=17.50s\n",
      "Epoch 18/30 \t loss=0.0970 \t time=17.32s\n",
      "Epoch 19/30 \t loss=0.0911 \t time=17.50s\n",
      "Epoch 20/30 \t loss=0.0864 \t time=17.62s\n",
      "Epoch 21/30 \t loss=0.0820 \t time=17.29s\n",
      "Epoch 22/30 \t loss=0.0789 \t time=17.52s\n",
      "Epoch 23/30 \t loss=0.0749 \t time=17.54s\n",
      "Epoch 24/30 \t loss=0.0711 \t time=17.32s\n",
      "Epoch 25/30 \t loss=0.0674 \t time=17.57s\n",
      "Epoch 26/30 \t loss=0.0642 \t time=17.62s\n",
      "Epoch 27/30 \t loss=0.0606 \t time=17.30s\n",
      "Epoch 28/30 \t loss=0.0592 \t time=17.59s\n",
      "Epoch 29/30 \t loss=0.0568 \t time=17.55s\n",
      "Epoch 30/30 \t loss=0.0548 \t time=17.35s\n"
     ]
    },
    {
     "data": {
      "image/png": "[encoded data removed]",
      "text/plain": [
       "<Figure size 432x288 with 1 Axes>"
      ]
     },
     "metadata": {
      "needs_background": "light"
     },
     "output_type": "display_data"
    },
    {
     "name": "stdout",
     "output_type": "stream",
     "text": [
      "\n",
      "Model  1\n",
      "Epoch 1/30 \t loss=0.2944 \t time=17.34s\n",
      "Epoch 2/30 \t loss=0.2478 \t time=17.44s\n",
      "Epoch 3/30 \t loss=0.2308 \t time=17.25s\n",
      "Epoch 4/30 \t loss=0.2166 \t time=17.54s\n",
      "Epoch 5/30 \t loss=0.2047 \t time=17.51s\n",
      "Epoch 6/30 \t loss=0.1926 \t time=17.41s\n",
      "Epoch 7/30 \t loss=0.1814 \t time=17.48s\n",
      "Epoch 8/30 \t loss=0.1714 \t time=17.54s\n",
      "Epoch 9/30 \t loss=0.1615 \t time=17.28s\n",
      "Epoch 10/30 \t loss=0.1531 \t time=17.65s\n",
      "Epoch 11/30 \t loss=0.1450 \t time=17.54s\n",
      "Epoch 12/30 \t loss=0.1366 \t time=17.36s\n",
      "Epoch 13/30 \t loss=0.1295 \t time=17.51s\n",
      "Epoch 14/30 \t loss=0.1228 \t time=17.54s\n",
      "Epoch 15/30 \t loss=0.1149 \t time=17.31s\n",
      "Epoch 16/30 \t loss=0.1095 \t time=17.58s\n",
      "Epoch 17/30 \t loss=0.1035 \t time=17.54s\n",
      "Epoch 18/30 \t loss=0.0983 \t time=17.45s\n",
      "Epoch 19/30 \t loss=0.0932 \t time=17.49s\n",
      "Epoch 20/30 \t loss=0.0883 \t time=17.54s\n",
      "Epoch 21/30 \t loss=0.0834 \t time=17.29s\n",
      "Epoch 22/30 \t loss=0.0806 \t time=17.67s\n",
      "Epoch 23/30 \t loss=0.0749 \t time=17.57s\n",
      "Epoch 24/30 \t loss=0.0724 \t time=17.33s\n",
      "Epoch 25/30 \t loss=0.0698 \t time=17.50s\n",
      "Epoch 26/30 \t loss=0.0665 \t time=17.54s\n",
      "Epoch 27/30 \t loss=0.0630 \t time=17.29s\n",
      "Epoch 28/30 \t loss=0.0608 \t time=17.56s\n",
      "Epoch 29/30 \t loss=0.0592 \t time=17.59s\n",
      "Epoch 30/30 \t loss=0.0561 \t time=17.57s\n"
     ]
    },
    {
     "data": {
      "image/png": "[encoded data removed]",
      "text/plain": [
       "<Figure size 432x288 with 1 Axes>"
      ]
     },
     "metadata": {
      "needs_background": "light"
     },
     "output_type": "display_data"
    },
    {
     "name": "stdout",
     "output_type": "stream",
     "text": [
      "\n"
     ]
    }
   ],
   "source": [
    "train_dataset = data.TensorDataset(x_train_torch, y_train_baseline)\n",
    "test_dataset = data.TensorDataset(x_test_torch)\n",
    "\n",
    "all_test_preds = []\n",
    "\n",
    "for model_idx in range(NUM_MODELS):\n",
    "    print('Model ', model_idx)\n",
    "    seed_everything(1234 + model_idx)\n",
    "    \n",
    "    model = NeuralNet(embedding_matrix)\n",
    "    model.cuda()\n",
    "    \n",
    "    test_preds,model = train_model(model, train_dataset, test_dataset, output_dim=y_train_baseline.shape[-1], \n",
    "                             loss_fn=nn.BCEWithLogitsLoss(reduction='mean'))\n",
    "    torch.save(model.state_dict(), f'Baseline model{model_idx}.pth')\n",
    "    all_test_preds.append(test_preds)\n",
    "    print()"
   ]
  },
  {
   "cell_type": "code",
   "execution_count": 26,
   "metadata": {},
   "outputs": [
    {
     "name": "stdout",
     "output_type": "stream",
     "text": [
      "Confusion Matrix of Model 0:\n",
      "[[12537  1965]\n",
      " [ 1293 13072]]\n",
      "acc of model0 =  0.8871375619219177\n",
      "Confusion Matrix of Model 1:\n",
      "[[12743  1759]\n",
      " [ 1481 12884]]\n",
      "acc of model1 =  0.8877611113035646\n",
      "Confusion Matrix of Ensemble Model:\n",
      "[[12722  1780]\n",
      " [ 1224 13141]]\n",
      "acc of ensemble model =  0.8959365365296013\n"
     ]
    }
   ],
   "source": [
    "from sklearn.metrics import confusion_matrix\n",
    "for model_idx in range(NUM_MODELS):\n",
    "    preds = np.where(all_test_preds[model_idx]>0.5,1,0)\n",
    "    cm = confusion_matrix(y_test, preds)\n",
    "    # 输出混淆矩阵\n",
    "    print(f\"Confusion Matrix of Model {model_idx}:\")\n",
    "    print(cm)\n",
    "    print(f'acc of model{model_idx} = ',np.sum(preds==y_test)/preds.shape[0])\n",
    "\n",
    "ensemble_preds = np.zeros(y_test.shape)\n",
    "for model_idx in range(NUM_MODELS):\n",
    "    ensemble_preds += all_test_preds[model_idx]\n",
    "ensemble_preds /= NUM_MODELS\n",
    "\n",
    "cm = confusion_matrix(y_test, np.where(ensemble_preds>0.5,1,0))\n",
    "# 输出混淆矩阵\n",
    "print(f\"Confusion Matrix of Ensemble Model:\")\n",
    "print(cm)\n",
    "print(f'acc of ensemble model = ',np.sum(np.where(ensemble_preds>0.5,1,0)==y_test)/preds.shape[0])\n",
    "\n"
   ]
  },
  {
   "cell_type": "markdown",
   "metadata": {},
   "source": [
    "虽然在训练集上，non-multitask的loss小得多，下降的也快，但是我们可以发现，它在测试集上的表现不如multitask。\n",
    "\n",
    "这验证了multi-task的有效性。"
   ]
  }
 ],
 "metadata": {
  "kernelspec": {
   "display_name": "Python 3 (ipykernel)",
   "language": "python",
   "name": "python3"
  },
  "language_info": {
   "codemirror_mode": {
    "name": "ipython",
    "version": 3
   },
   "file_extension": ".py",
   "mimetype": "text/x-python",
   "name": "python",
   "nbconvert_exporter": "python",
   "pygments_lexer": "ipython3",
   "version": "3.8.6"
  }
 },
 "nbformat": 4,
 "nbformat_minor": 4
}
