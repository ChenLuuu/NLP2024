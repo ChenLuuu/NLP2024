{
 "cells": [
  {
   "cell_type": "markdown",
   "id": "49511a6d-fdcd-4c6f-b7db-a58f6fad575e",
   "metadata": {},
   "source": [
    "# BERT"
   ]
  },
  {
   "cell_type": "code",
   "execution_count": 1,
   "id": "c3ba0ab8-485d-4fba-8c03-ec5782357016",
   "metadata": {},
   "outputs": [
    {
     "name": "stderr",
     "output_type": "stream",
     "text": [
      "2024-06-26 11:31:54.840894: I tensorflow/core/util/util.cc:169] oneDNN custom operations are on. You may see slightly different numerical results due to floating-point round-off errors from different computation orders. To turn them off, set the environment variable `TF_ENABLE_ONEDNN_OPTS=0`.\n"
     ]
    }
   ],
   "source": [
    "import os\n",
    "import random\n",
    "import functools\n",
    "import csv\n",
    "import numpy as np\n",
    "import torch\n",
    "import torch.nn.functional as F\n",
    "from sklearn.metrics import roc_auc_score, roc_curve, accuracy_score, recall_score, confusion_matrix\n",
    "from skmultilearn.model_selection import iterative_train_test_split\n",
    "from datasets import Dataset, DatasetDict\n",
    "from sklearn.model_selection import train_test_split\n",
    "from peft import (\n",
    "    LoraConfig,\n",
    "    prepare_model_for_kbit_training,\n",
    "    get_peft_model\n",
    ")\n",
    "from transformers import (\n",
    "    AutoModelForSequenceClassification,\n",
    "    AutoTokenizer,\n",
    "    BitsAndBytesConfig,\n",
    "    TrainingArguments,\n",
    "    Trainer\n",
    ")\n",
    "import matplotlib.pyplot as plt\n",
    "import seaborn as sns\n",
    "from itertools import cycle\n",
    "import pandas as pd\n",
    "import bitsandbytes, accelerate"
   ]
  },
  {
   "cell_type": "code",
   "execution_count": 2,
   "id": "bad3843c-d11a-458a-899c-22ba75ce0181",
   "metadata": {},
   "outputs": [],
   "source": [
    "# define custom batch preprocessor\n",
    "def collate_fn(batch, tokenizer):\n",
    "    dict_keys = ['input_ids', 'attention_mask', 'labels']\n",
    "    d = {k: [dic[k] for dic in batch] for k in dict_keys}\n",
    "    d['input_ids'] = torch.nn.utils.rnn.pad_sequence(\n",
    "        d['input_ids'], batch_first=True, padding_value=float(pad_token_id)\n",
    "    )\n",
    "    d['attention_mask'] = torch.nn.utils.rnn.pad_sequence(\n",
    "        d['attention_mask'], batch_first=True, padding_value=float(pad_token_id)\n",
    "    )\n",
    "    d['labels'] = torch.stack(d['labels'])\n",
    "    return d"
   ]
  },
  {
   "cell_type": "code",
   "execution_count": 3,
   "id": "9fc06e7b-8a51-4cf1-9205-e0397eddeb28",
   "metadata": {},
   "outputs": [],
   "source": [
    "class CustomTrainer(Trainer):\n",
    "\n",
    "    def __init__(self, label_weights, **kwargs):\n",
    "        super().__init__(**kwargs)\n",
    "        self.label_weights = label_weights\n",
    "\n",
    "    def compute_loss(self, model, inputs, return_outputs=False):\n",
    "        labels = inputs.pop(\"labels\")\n",
    "\n",
    "        # forward pass\n",
    "        outputs = model(**inputs)\n",
    "        logits = outputs.get(\"logits\")\n",
    "\n",
    "        # compute custom loss\n",
    "        loss = F.binary_cross_entropy_with_logits(logits, labels.to(torch.float32), pos_weight=self.label_weights)\n",
    "        return (loss, outputs) if return_outputs else loss"
   ]
  },
  {
   "cell_type": "code",
   "execution_count": 4,
   "id": "40c1da0e-04db-438f-af7b-de1cec078971",
   "metadata": {},
   "outputs": [],
   "source": [
    "# disable progress bars when submitting\n",
    "def is_interactive():\n",
    "   return 'SHLVL' not in os.environ\n",
    "\n",
    "if not is_interactive():\n",
    "    def nop(it, *a, **k):\n",
    "        return it\n",
    "\n",
    "    tqdm = nop\n",
    "\n",
    "def seed_everything(seed=1234):\n",
    "    random.seed(seed)\n",
    "    os.environ['PYTHONHASHSEED'] = str(seed)\n",
    "    np.random.seed(seed)\n",
    "    torch.manual_seed(seed)\n",
    "    torch.cuda.manual_seed(seed)\n",
    "    torch.backends.cudnn.deterministic = True\n",
    "seed_everything()\n",
    "N_LABELS = 30 #主标签+辅助标签"
   ]
  },
  {
   "cell_type": "code",
   "execution_count": 5,
   "id": "4f3498ba-31f1-45dd-84b6-ea58179261fe",
   "metadata": {},
   "outputs": [],
   "source": [
    "max_features = None\n",
    "\n",
    "train = pd.read_csv('../dataset/train.csv')\n",
    "# test = pd.read_csv('../input/jigsaw-unintended-bias-in-toxicity-classification/test.csv')\n",
    "\n",
    "# x_train = preprocess(train['comment_text'])\n",
    "x_train = train['comment_text']\n",
    "y_train = np.where(train['target'] >= 0.5, 1, 0)\n",
    "y_aux_train = train[['target']+list(train.columns[3:32])]\n",
    "y_aux_train = y_aux_train.applymap(lambda x: 1 if x > 0.5 else 0)\n",
    "\n",
    "\n",
    "# 均衡化数据集\n",
    "# 确定数量较少的类别\n",
    "count_class_0 = np.sum(y_train == 0)\n",
    "count_class_1 = np.sum(y_train == 1)\n",
    "\n",
    "# 从数量较多的类别中随机抽样\n",
    "index_class_0 = np.where(y_train == 0)[0]\n",
    "index_class_1 = np.where(y_train == 1)[0]\n",
    "\n",
    "# 从数量较多的类别中随机选择与数量较少的类别相同数量的样本\n",
    "seed_everything()\n",
    "selected_index_class_0 = np.random.choice(index_class_0, count_class_1, replace=False)\n",
    "\n",
    "# 构建平衡的数据集\n",
    "x_train = np.concatenate([x_train[selected_index_class_0], x_train[index_class_1]])\n",
    "y_train = np.concatenate([y_train[selected_index_class_0], y_train[index_class_1]])\n",
    "y_aux_train = np.concatenate([y_aux_train.iloc[selected_index_class_0], y_aux_train.iloc[index_class_1]])\n",
    "\n",
    "# 划分训练集和测试集，按照9:1的比例\n",
    "x_train, x_test, y_train, y_test, y_aux_train, y_aux_test = train_test_split(\n",
    "    x_train, y_train, y_aux_train, test_size=0.1, random_state=1624)\n"
   ]
  },
  {
   "cell_type": "code",
   "execution_count": 6,
   "id": "cc409e5d-4877-4d13-a812-d4f042796997",
   "metadata": {},
   "outputs": [],
   "source": [
    "# create hf dataset\n",
    "ds = DatasetDict({\n",
    "    'train': Dataset.from_dict({'text': x_train, 'labels': y_aux_train}),\n",
    "    'val': Dataset.from_dict({'text': x_test, 'labels': y_aux_test})\n",
    "})\n",
    "label_weights = np.ones((N_LABELS))"
   ]
  },
  {
   "cell_type": "code",
   "execution_count": 7,
   "id": "844755f1-7989-4f84-a796-b339489b5112",
   "metadata": {},
   "outputs": [
    {
     "data": {
      "application/vnd.jupyter.widget-view+json": {
       "model_id": "1eb706bca884421c9a51e8f62c6b9c9f",
       "version_major": 2,
       "version_minor": 0
      },
      "text/plain": [
       "Map:   0%|          | 0/259801 [00:00<?, ? examples/s]"
      ]
     },
     "metadata": {},
     "output_type": "display_data"
    },
    {
     "data": {
      "application/vnd.jupyter.widget-view+json": {
       "model_id": "ad33ce44253f4fa496b9bf547ca2164b",
       "version_major": 2,
       "version_minor": 0
      },
      "text/plain": [
       "Map:   0%|          | 0/28867 [00:00<?, ? examples/s]"
      ]
     },
     "metadata": {},
     "output_type": "display_data"
    }
   ],
   "source": [
    "# model name\n",
    "model_name = 'bert-base-uncased'\n",
    "\n",
    "# preprocess dataset with tokenizer\n",
    "def tokenize_examples(examples, tokenizer):\n",
    "    tokenized_inputs = tokenizer(examples['text'])\n",
    "    tokenized_inputs['labels'] = examples['labels']\n",
    "    return tokenized_inputs\n",
    "\n",
    "tokenizer = AutoTokenizer.from_pretrained('./BERT')\n",
    "tokenizer.pad_token = tokenizer.eos_token\n",
    "tokenized_ds = ds.map(functools.partial(tokenize_examples, tokenizer=tokenizer), batched=True)\n",
    "tokenized_ds = tokenized_ds.with_format('torch')\n",
    "pad_token_id = 0"
   ]
  },
  {
   "cell_type": "code",
   "execution_count": 8,
   "id": "d558117c-8d7c-4dd2-8069-05ab9fc93aac",
   "metadata": {},
   "outputs": [],
   "source": [
    "def collate_fn(batch, tokenizer, pad_token_id):\n",
    "    max_length = max(len(sample['input_ids']) for sample in batch)\n",
    "    input_ids = []\n",
    "    attention_masks = []\n",
    "    labels = []\n",
    "\n",
    "    for sample in batch:\n",
    "        input_id = sample['input_ids']\n",
    "        attention_mask = sample['attention_mask']\n",
    "        label = sample['labels']\n",
    "\n",
    "        # Padding\n",
    "        padding_length = max_length - len(input_id)\n",
    "        padded_input_id = torch.cat([input_id, torch.tensor([pad_token_id] * padding_length, dtype=torch.long)])\n",
    "        padded_attention_mask = torch.cat([attention_mask, torch.zeros(padding_length, dtype=torch.long)])\n",
    "\n",
    "        input_ids.append(padded_input_id)\n",
    "        attention_masks.append(padded_attention_mask)\n",
    "        labels.append(label)\n",
    "\n",
    "    return {\n",
    "        'input_ids': torch.stack(input_ids),\n",
    "        'attention_mask': torch.stack(attention_masks),\n",
    "        'labels': torch.stack(labels)\n",
    "    }"
   ]
  },
  {
   "cell_type": "code",
   "execution_count": 9,
   "id": "1d426b8f-fd41-471d-b6c9-a1b0c5724536",
   "metadata": {},
   "outputs": [],
   "source": [
    "def load_model_and_tokenizer(model_path, num_labels):\n",
    "    model = AutoModelForSequenceClassification.from_pretrained(model_path, num_labels=num_labels)\n",
    "    tokenizer = AutoTokenizer.from_pretrained(model_path)\n",
    "    return model, tokenizer"
   ]
  },
  {
   "cell_type": "code",
   "execution_count": 10,
   "id": "00dd5906-9e1a-4bdb-8901-ead3cc2d1316",
   "metadata": {},
   "outputs": [],
   "source": [
    "# 评估函数\n",
    "def evaluate_model(model, tokenizer, eval_dataset, batch_size=8):\n",
    "    model.eval()\n",
    "    device = torch.device(\"cuda\" if torch.cuda.is_available() else \"cpu\")\n",
    "    model.to(device)\n",
    "    \n",
    "    val_loader = torch.utils.data.DataLoader(eval_dataset, batch_size=batch_size, shuffle=False, collate_fn=lambda x: collate_fn(x, tokenizer, pad_token_id))\n",
    "    \n",
    "    all_labels = []\n",
    "    all_predictions = []\n",
    "    all_probabilities = []\n",
    "\n",
    "    with torch.no_grad():\n",
    "        for batch in tqdm(val_loader, desc=\"Evaluating\"):\n",
    "            inputs = {k: v.to(device) for k, v in batch.items() if k != 'labels'}\n",
    "            labels = batch['labels'].to(device)\n",
    "            outputs = model(**inputs)\n",
    "            logits = outputs.logits\n",
    "            \n",
    "            probabilities = torch.sigmoid(logits).cpu().numpy()  # sigmoid 转换\n",
    "            predictions = (probabilities >= 0.5).astype(int)  # 二进制预测\n",
    "\n",
    "            all_labels.extend(labels.cpu().numpy())\n",
    "            all_predictions.extend(predictions)\n",
    "            all_probabilities.extend(probabilities)\n",
    "    \n",
    "    all_labels = np.array(all_labels)\n",
    "    all_predictions = np.array(all_predictions)\n",
    "    all_probabilities = np.array(all_probabilities)\n",
    "    labels_binary = (all_labels >= 0.5).astype(int)\n",
    "    \n",
    "    # 选择第一个类别进行评估\n",
    "    class_index = 0\n",
    "    labels_class = all_labels[:, class_index]\n",
    "    binary_labels_class = labels_binary[:, class_index]\n",
    "    predictions_class = all_predictions[:, class_index]\n",
    "    probabilities_class = all_probabilities[:, class_index]\n",
    "\n",
    "    accuracy_class = accuracy_score(labels_class, predictions_class)\n",
    "    recall_class = recall_score(labels_class, predictions_class)\n",
    "    # 这里auc, roc是用两个0/1值算的\n",
    "    auc = roc_auc_score(binary_labels_class, predictions_class)\n",
    "    cm = confusion_matrix(labels_class, predictions_class)\n",
    "\n",
    "    print(f\"Validation Accuracy: {accuracy_class}\")\n",
    "    print(f\"Validation Recall: {recall_class}\")\n",
    "    print(f\"Validation AUC: {auc}\")\n",
    "    print(f\"Confusion Matrix:\\n{cm}\")\n",
    "\n",
    "    # 绘制ROC曲线\n",
    "    fpr, tpr, thresholds = roc_curve(binary_labels_class, predictions_class)\n",
    "    plt.figure()\n",
    "    plt.plot(fpr, tpr, color='darkorange', lw=2, label='ROC curve (area = %0.2f)' % auc)\n",
    "    plt.plot([0, 1], [0, 1], color='navy', lw=2, linestyle='--')\n",
    "    plt.xlim([0.0, 1.0])\n",
    "    plt.ylim([0.0, 1.05])\n",
    "    plt.xlabel('False Positive Rate')\n",
    "    plt.ylabel('True Positive Rate')\n",
    "    plt.title('Receiver Operating Characteristic (ROC) Curve')\n",
    "    plt.legend(loc=\"lower right\")\n",
    "    plt.show()\n",
    "    \n",
    "    return all_labels, all_probabilities"
   ]
  },
  {
   "cell_type": "code",
   "execution_count": 11,
   "id": "bcb1205e-2e39-4b0b-817d-79748de7a465",
   "metadata": {},
   "outputs": [
    {
     "name": "stdout",
     "output_type": "stream",
     "text": [
      "Evaluating model: lora-bert-alltagged-4epoch\n"
     ]
    },
    {
     "name": "stderr",
     "output_type": "stream",
     "text": [
      "Some weights of BertForSequenceClassification were not initialized from the model checkpoint at ./BERT and are newly initialized: ['classifier.bias', 'classifier.weight']\n",
      "You should probably TRAIN this model on a down-stream task to be able to use it for predictions and inference.\n"
     ]
    },
    {
     "name": "stdout",
     "output_type": "stream",
     "text": [
      "Validation Accuracy: 0.8561333010011432\n",
      "Validation Recall: 0.8741596439731086\n",
      "Validation AUC: 0.8599466416085362\n",
      "Confusion Matrix:\n",
      "[[15482  2824]\n",
      " [ 1329  9232]]\n"
     ]
    },
    {
     "data": {
      "image/png": "[encoded data removed]",
      "text/plain": [
       "<Figure size 432x288 with 1 Axes>"
      ]
     },
     "metadata": {
      "needs_background": "light"
     },
     "output_type": "display_data"
    }
   ],
   "source": [
    "eval_dataset = tokenized_ds['val']\n",
    "model_paths = ['lora-bert-alltagged-4epoch']\n",
    "\n",
    "\n",
    "all_probabilities = []\n",
    "\n",
    "for model_path in model_paths:\n",
    "    print(f\"Evaluating model: {model_path}\")\n",
    "    model, tokenizer = load_model_and_tokenizer(model_path, N_LABELS)\n",
    "    all_labels, probabilities_class = evaluate_model(model, tokenizer, eval_dataset)\n",
    "    all_probabilities.append(probabilities_class)"
   ]
  },
  {
   "cell_type": "markdown",
   "id": "efd1f532-9776-4fac-8ac4-785ae265136d",
   "metadata": {},
   "source": [
    "# LSTM"
   ]
  },
  {
   "cell_type": "code",
   "execution_count": 12,
   "id": "76135001-ef69-4306-bab8-71e0c8fc1f99",
   "metadata": {},
   "outputs": [],
   "source": [
    "import numpy as np\n",
    "import pandas as pd\n",
    "import os\n",
    "import time\n",
    "import gc\n",
    "import random\n",
    "from tqdm.notebook import tqdm\n",
    "from keras.preprocessing import text, sequence\n",
    "from tensorflow.keras.preprocessing.sequence import pad_sequences\n",
    "import torch\n",
    "from torch import nn\n",
    "from torch.utils import data\n",
    "from torch.nn import functional as F\n",
    "from sklearn.model_selection import train_test_split"
   ]
  },
  {
   "cell_type": "code",
   "execution_count": 13,
   "id": "fe65ed2f-08e9-4464-b7ac-171b9d6d2e16",
   "metadata": {},
   "outputs": [],
   "source": [
    "# disable progress bars when submitting\n",
    "def is_interactive():\n",
    "   return 'SHLVL' not in os.environ\n",
    "\n",
    "if not is_interactive():\n",
    "    def nop(it, *a, **k):\n",
    "        return it\n",
    "\n",
    "    tqdm = nop"
   ]
  },
  {
   "cell_type": "code",
   "execution_count": 14,
   "id": "9d45cb4d-9d92-4944-b2b7-f9d224dcb024",
   "metadata": {},
   "outputs": [],
   "source": [
    "NUM_MODELS = 1\n",
    "LSTM_UNITS = 128\n",
    "DENSE_HIDDEN_UNITS = 4 * LSTM_UNITS\n",
    "MAX_LEN = 220"
   ]
  },
  {
   "cell_type": "code",
   "execution_count": 15,
   "id": "bdec384d-f01b-4525-8190-02eec06efcbd",
   "metadata": {},
   "outputs": [],
   "source": [
    "def preprocess(data):\n",
    "    '''\n",
    "    Credit goes to https://www.kaggle.com/gpreda/jigsaw-fast-compact-solution\n",
    "    '''\n",
    "    punct = \"/-'?!.,#$%\\'()*+-/:;<=>@[\\\\]^_`{|}~`\" + '\"\"“”’' + '∞θ÷α•à−β∅³π‘₹´°£€\\×™√²—–&'\n",
    "    def clean_special_chars(text, punct):\n",
    "        for p in punct:\n",
    "            text = text.replace(p, ' ')\n",
    "        return text\n",
    "\n",
    "    data = data.astype(str).apply(lambda x: clean_special_chars(x, punct))\n",
    "    return data"
   ]
  },
  {
   "cell_type": "code",
   "execution_count": 16,
   "id": "974876c4-1bee-425a-a57d-b38194b493a3",
   "metadata": {},
   "outputs": [],
   "source": [
    "max_features = None\n",
    "\n",
    "train = pd.read_csv('../dataset/train.csv')\n",
    "# test = pd.read_csv('../input/jigsaw-unintended-bias-in-toxicity-classification/test.csv')\n",
    "\n",
    "x_train = preprocess(train['comment_text'])\n",
    "y_train = np.where(train['target'] >= 0.5, 1, 0)\n",
    "y_aux_train = train[['target', 'severe_toxicity', 'obscene', 'identity_attack', 'insult', 'threat']]"
   ]
  },
  {
   "cell_type": "code",
   "execution_count": 17,
   "id": "cc521ce5-f534-47b5-9ac6-231894ec0cb7",
   "metadata": {},
   "outputs": [],
   "source": [
    "# 均衡化数据集\n",
    "# 确定数量较少的类别\n",
    "count_class_0 = np.sum(y_train == 0)\n",
    "count_class_1 = np.sum(y_train == 1)\n",
    "\n",
    "# 从数量较多的类别中随机抽样\n",
    "index_class_0 = np.where(y_train == 0)[0]\n",
    "index_class_1 = np.where(y_train == 1)[0]\n",
    "\n",
    "# 从数量较多的类别中随机选择与数量较少的类别相同数量的样本\n",
    "seed_everything()\n",
    "selected_index_class_0 = np.random.choice(index_class_0, count_class_1, replace=False)\n",
    "\n",
    "# 构建平衡的数据集\n",
    "x_train = np.concatenate([x_train[selected_index_class_0], x_train[index_class_1]])\n",
    "y_train = np.concatenate([y_train[selected_index_class_0], y_train[index_class_1]])\n",
    "y_aux_train = np.concatenate([y_aux_train.iloc[selected_index_class_0], y_aux_train.iloc[index_class_1]])\n"
   ]
  },
  {
   "cell_type": "code",
   "execution_count": 18,
   "id": "664c5f9f-c9dd-4acd-bb70-623b7466a370",
   "metadata": {},
   "outputs": [
    {
     "data": {
      "text/plain": [
       "122578"
      ]
     },
     "execution_count": 18,
     "metadata": {},
     "output_type": "execute_result"
    }
   ],
   "source": [
    "# 划分训练集和测试集，按照9:1的比例\n",
    "x_train, x_test, y_train, y_test, y_aux_train, y_aux_test = train_test_split(\n",
    "    x_train, y_train, y_aux_train, test_size=0.1, random_state=1624)\n",
    "\n",
    "tokenizer = text.Tokenizer()\n",
    "tokenizer.fit_on_texts(list(x_train) + list(x_test))\n",
    "\n",
    "x_train = tokenizer.texts_to_sequences(x_train)\n",
    "x_test = tokenizer.texts_to_sequences(x_test)\n",
    "x_train = pad_sequences(x_train, maxlen=MAX_LEN)\n",
    "x_test = pad_sequences(x_test, maxlen=MAX_LEN)\n",
    "\n",
    "max_features = max_features or len(tokenizer.word_index) + 1\n",
    "max_features"
   ]
  },
  {
   "cell_type": "code",
   "execution_count": 19,
   "id": "37d7afec-5cdf-4cc4-a208-78e230d30206",
   "metadata": {},
   "outputs": [],
   "source": [
    "x_train_torch = torch.tensor(x_train, dtype=torch.long).cuda()\n",
    "x_test_torch = torch.tensor(x_test, dtype=torch.long).cuda()\n",
    "y_train_torch = torch.tensor(np.hstack([y_train[:, np.newaxis], y_aux_train]), dtype=torch.float32).cuda()\n",
    "y_train_baseline = torch.tensor(y_train, dtype=torch.float32).cuda()"
   ]
  },
  {
   "cell_type": "code",
   "execution_count": 20,
   "id": "d6944025-b1a2-4264-a249-3e3e012001d9",
   "metadata": {},
   "outputs": [],
   "source": [
    "CRAWL_EMBEDDING_PATH = '../WordEmbedding/crawl-300d-2M.vec'\n",
    "GLOVE_EMBEDDING_PATH = '../WordEmbedding/glove.840B.300d.txt'\n",
    "\n",
    "def get_coefs(word, *arr):\n",
    "    return word, np.asarray(arr, dtype='float32')\n",
    "\n",
    "def load_embeddings(path):\n",
    "    with open(path) as f:\n",
    "        return dict(get_coefs(*line.strip().split(' ')) for line in tqdm(f))\n",
    "\n",
    "def build_matrix(word_index, path):\n",
    "    embedding_index = load_embeddings(path)\n",
    "    embedding_matrix = np.zeros((len(word_index) + 1, 300))\n",
    "    unknown_words = []\n",
    "    \n",
    "    for word, i in word_index.items():\n",
    "        try:\n",
    "            embedding_matrix[i] = embedding_index[word]\n",
    "        except KeyError:\n",
    "            unknown_words.append(word)\n",
    "    return embedding_matrix, unknown_words"
   ]
  },
  {
   "cell_type": "code",
   "execution_count": 21,
   "id": "8192294b-ddd9-4d08-96b1-182a0722a850",
   "metadata": {},
   "outputs": [
    {
     "name": "stdout",
     "output_type": "stream",
     "text": [
      "n unknown words (crawl):  38008\n",
      "n unknown words (glove):  36611\n"
     ]
    }
   ],
   "source": [
    "crawl_matrix, unknown_words_crawl = build_matrix(tokenizer.word_index, CRAWL_EMBEDDING_PATH)\n",
    "print('n unknown words (crawl): ', len(unknown_words_crawl))\n",
    "\n",
    "glove_matrix, unknown_words_glove = build_matrix(tokenizer.word_index, GLOVE_EMBEDDING_PATH)\n",
    "print('n unknown words (glove): ', len(unknown_words_glove))"
   ]
  },
  {
   "cell_type": "code",
   "execution_count": 22,
   "id": "3156de04-0599-4a02-a4fd-326518b7103c",
   "metadata": {},
   "outputs": [
    {
     "data": {
      "text/plain": [
       "0"
      ]
     },
     "execution_count": 22,
     "metadata": {},
     "output_type": "execute_result"
    }
   ],
   "source": [
    "embedding_matrix = np.concatenate([crawl_matrix, glove_matrix], axis=-1)\n",
    "embedding_matrix.shape\n",
    "\n",
    "del crawl_matrix\n",
    "del glove_matrix\n",
    "gc.collect()"
   ]
  },
  {
   "cell_type": "code",
   "execution_count": 23,
   "id": "af3c346a-b2c2-4f64-bdbe-ee46cf70721e",
   "metadata": {},
   "outputs": [],
   "source": [
    "class SpatialDropout(nn.Dropout2d):\n",
    "    def forward(self, x):\n",
    "        x = x.unsqueeze(2)    # (N, T, 1, K)\n",
    "        x = x.permute(0, 3, 2, 1)  # (N, K, 1, T)\n",
    "        x = super(SpatialDropout, self).forward(x)  # (N, K, 1, T), some features are masked\n",
    "        x = x.permute(0, 3, 2, 1)  # (N, T, 1, K)\n",
    "        x = x.squeeze(2)  # (N, T, K)\n",
    "        return x\n",
    "    \n",
    "class NeuralNet(nn.Module):\n",
    "    def __init__(self, embedding_matrix, num_aux_targets):\n",
    "        super(NeuralNet, self).__init__()\n",
    "        embed_size = embedding_matrix.shape[1]\n",
    "        \n",
    "        self.embedding = nn.Embedding(max_features, embed_size)\n",
    "        self.embedding.weight = nn.Parameter(torch.tensor(embedding_matrix, dtype=torch.float32))\n",
    "        self.embedding.weight.requires_grad = False\n",
    "        self.embedding_dropout = SpatialDropout(0.3)\n",
    "        \n",
    "        self.lstm1 = nn.LSTM(embed_size, LSTM_UNITS, bidirectional=True, batch_first=True)\n",
    "        self.lstm2 = nn.LSTM(LSTM_UNITS * 2, LSTM_UNITS, bidirectional=True, batch_first=True)\n",
    "    \n",
    "        self.linear1 = nn.Linear(DENSE_HIDDEN_UNITS, DENSE_HIDDEN_UNITS)\n",
    "        self.linear2 = nn.Linear(DENSE_HIDDEN_UNITS, DENSE_HIDDEN_UNITS)\n",
    "        \n",
    "        self.linear_out = nn.Linear(DENSE_HIDDEN_UNITS, 1)\n",
    "        self.linear_aux_out = nn.Linear(DENSE_HIDDEN_UNITS, num_aux_targets)\n",
    "        \n",
    "    def forward(self, x):\n",
    "        h_embedding = self.embedding(x)\n",
    "        h_embedding = self.embedding_dropout(h_embedding)\n",
    "        \n",
    "        h_lstm1, _ = self.lstm1(h_embedding)\n",
    "        h_lstm2, _ = self.lstm2(h_lstm1)\n",
    "        \n",
    "        # global average pooling\n",
    "        avg_pool = torch.mean(h_lstm2, 1)\n",
    "        # global max pooling\n",
    "        max_pool, _ = torch.max(h_lstm2, 1)\n",
    "        \n",
    "        h_conc = torch.cat((max_pool, avg_pool), 1)\n",
    "        h_conc_linear1  = F.relu(self.linear1(h_conc))\n",
    "        h_conc_linear2  = F.relu(self.linear2(h_conc))\n",
    "        \n",
    "        hidden = h_conc + h_conc_linear1 + h_conc_linear2\n",
    "        \n",
    "        result = self.linear_out(hidden)\n",
    "        aux_result = self.linear_aux_out(hidden)\n",
    "        out = torch.cat([result, aux_result], 1)\n",
    "        \n",
    "        return out"
   ]
  },
  {
   "cell_type": "code",
   "execution_count": 24,
   "id": "7169cc87-650b-4872-8aee-1189cea3e920",
   "metadata": {},
   "outputs": [],
   "source": [
    "model = NeuralNet(embedding_matrix, y_aux_train.shape[-1])\n",
    "model.cuda()\n",
    "model.load_state_dict(torch.load('Model/LSTM model0.pth'))\n",
    "\n",
    "batch_size = 32  # 调整为适当的批处理大小\n",
    "num_samples = x_test_torch.size(0)\n",
    "num_batches = (num_samples + batch_size - 1) // batch_size  # 计算总批次数\n",
    "\n",
    "model.eval()  # 将模型设置为评估模式\n",
    "\n",
    "predictions = []\n",
    "\n",
    "with torch.no_grad():\n",
    "    for i in range(num_batches):\n",
    "        start_idx = i * batch_size\n",
    "        end_idx = min((i + 1) * batch_size, num_samples)\n",
    "        batch_inputs = x_test_torch[start_idx:end_idx]\n",
    "\n",
    "        # 进行推断\n",
    "        batch_outputs = model(batch_inputs)\n",
    "        predictions.append(batch_outputs)\n",
    "\n",
    "# 合并所有预测结果\n",
    "predictions = torch.cat(predictions, dim=0)[:, :1] .squeeze()\n",
    "predictions.shape\n",
    "all_probabilities.append(np.array(predictions.cpu()))\n",
    "all_probabilities[0] = all_probabilities[0][:, :1] .squeeze()"
   ]
  },
  {
   "cell_type": "markdown",
   "id": "ed0b1092-7d42-46c8-b8c2-d814039388b6",
   "metadata": {},
   "source": [
    "# ensemble"
   ]
  },
  {
   "cell_type": "code",
   "execution_count": 25,
   "id": "39147b4b-ef6e-41f4-95f0-87af0d00e2a2",
   "metadata": {},
   "outputs": [
    {
     "data": {
      "text/plain": [
       "(2, 28867)"
      ]
     },
     "execution_count": 25,
     "metadata": {},
     "output_type": "execute_result"
    }
   ],
   "source": [
    "np.array(all_probabilities).shape"
   ]
  },
  {
   "cell_type": "code",
   "execution_count": 31,
   "id": "42d9ed8c-a369-44e6-9b90-51eee4e6a5bf",
   "metadata": {},
   "outputs": [
    {
     "name": "stdout",
     "output_type": "stream",
     "text": [
      "Ensemble Model Validation Accuracy: 0.8924723732982298\n",
      "Ensemble Model Validation Recall: 0.8981552384267316\n",
      "Ensemble Model Validation AUC: 0.8924992162344663\n",
      "Ensemble Model Confusion Matrix:\n",
      "[[12861  1641]\n",
      " [ 1463 12902]]\n"
     ]
    },
    {
     "data": {
      "image/png": "[encoded data removed]",
      "text/plain": [
       "<Figure size 432x288 with 1 Axes>"
      ]
     },
     "metadata": {
      "needs_background": "light"
     },
     "output_type": "display_data"
    }
   ],
   "source": [
    "# ensemble_probabilities = np.mean(all_probabilities, axis=0)\n",
    "\n",
    "weights = weights = np.array([0.5, 0.5])\n",
    "ensemble_probabilities = np.average(np.array(all_probabilities), axis=0,weights=weights)\n",
    "\n",
    "\n",
    "ensemble_predictions = (ensemble_probabilities >= 0.5).astype(int)\n",
    "\n",
    "# 评估集成模型\n",
    "labels_binary = (all_labels >= 0.5).astype(int)\n",
    "    \n",
    "# 选择第一个类别进行评估\n",
    "class_index = 0\n",
    "# labels_class = \n",
    "binary_labels_class = labels_binary\n",
    "predictions_class = ensemble_predictions\n",
    "probabilities_class = ensemble_probabilities\n",
    "\n",
    "accuracy_class = accuracy_score(y_test, predictions_class)\n",
    "recall_class = recall_score(y_test, predictions_class)\n",
    "auc = roc_auc_score(y_test, predictions_class)\n",
    "cm = confusion_matrix(y_test, predictions_class)\n",
    "\n",
    "print(f\"Ensemble Model Validation Accuracy: {accuracy_class}\")\n",
    "print(f\"Ensemble Model Validation Recall: {recall_class}\")\n",
    "print(f\"Ensemble Model Validation AUC: {auc}\")\n",
    "print(f\"Ensemble Model Confusion Matrix:\\n{cm}\")\n",
    "\n",
    "# 绘制ROC曲线\n",
    "fpr, tpr, thresholds = roc_curve(y_test, predictions_class)\n",
    "plt.figure()\n",
    "plt.plot(fpr, tpr, color='darkorange', lw=2, label='ROC curve (area = %0.2f)' % auc)\n",
    "plt.plot([0, 1], [0, 1], color='navy', lw=2, linestyle='--')\n",
    "plt.xlim([0.0, 1.0])\n",
    "plt.ylim([0.0, 1.0])\n",
    "plt.xlabel('False Positive Rate')\n",
    "plt.ylabel('True Positive Rate')\n",
    "plt.title('Receiver Operating Characteristic (ROC) Curve')\n",
    "plt.legend(loc=\"lower right\")\n",
    "plt.show()"
   ]
  }
 ],
 "metadata": {
  "kernelspec": {
   "display_name": "Python 3 (ipykernel)",
   "language": "python",
   "name": "python3"
  },
  "language_info": {
   "codemirror_mode": {
    "name": "ipython",
    "version": 3
   },
   "file_extension": ".py",
   "mimetype": "text/x-python",
   "name": "python",
   "nbconvert_exporter": "python",
   "pygments_lexer": "ipython3",
   "version": "3.8.10"
  }
 },
 "nbformat": 4,
 "nbformat_minor": 5
}
